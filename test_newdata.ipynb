{
 "cells": [
  {
   "cell_type": "code",
   "execution_count": 2,
   "metadata": {},
   "outputs": [
    {
     "name": "stdout",
     "output_type": "stream",
     "text": [
      "(63438848,)\n"
     ]
    }
   ],
   "source": [
    "import numpy as np\n",
    "img=np.fromfile(r'D:\\研究生文件夹\\数据集\\luna16\\subset0\\1.3.6.1.4.1.14519.5.2.1.6279.6001.105756658031515062000744821260.raw', dtype='uint8')\n",
    "print(img.shape)"
   ]
  },
  {
   "cell_type": "code",
   "execution_count": null,
   "metadata": {},
   "outputs": [],
   "source": [
    "import cv2\n",
    "class DataGenerator(keras.utils.Sequence):\n",
    "\n",
    "    def __init__(self, data_img, data_mask, batch_size=1, shuffle=True):\n",
    "        self.batch_size = batch_size\n",
    "        self.data_img = data_img #数据 -- 图像，视频等 （数据数量，数据大小）\n",
    "        self.data_mask = data_mask #标记 -- 图像框，类别标记等\n",
    "        self.indexes = np.arange(len(self.data_img))\n",
    "        self.shuffle = shuffle\n",
    "\n",
    "    def __len__(self):\n",
    "        # 计算每一个epoch的迭代次数\n",
    "        return math.ceil(len(self.data_img) / float(self.batch_size))\n",
    "\n",
    "    def __getitem__(self, index):\n",
    "        # 生成每个batch数据，这里就根据自己对数据的读取方式进行发挥了\n",
    "        # 生成batch_size个索引\n",
    "        batch_indexs = self.indexes[index * self.batch_size:(index + 1) * self.batch_size]\n",
    "        # 根据索引获取datas集合中的数据\n",
    "        batch_data_img = [self.data_img[k] for k in batch_indexs] #读取batchsize维度的数据\n",
    "        batch_data_mask = [self.data_mask[k] for k in batch_indexs]\n",
    "\n",
    "        # 生成数据\n",
    "        X, y = self.data_generation(batch_data_img, batch_data_mask) #输入一组数据\n",
    "\n",
    "        return X, y\n",
    "\n",
    "    def on_epoch_end(self):\n",
    "        # 在每一次epoch结束是否需要进行一次随机，重新随机一下index\n",
    "        if self.shuffle == True:\n",
    "            np.random.shuffle(self.indexes)\n",
    "\n",
    "    def data_generation(self, batch_data_img, batch_data_mask):\n",
    "        images = []\n",
    "        masks = []\n",
    "\n",
    "        # 生成数据\n",
    "        for data_img, data_mask in zip(batch_data_img, batch_data_mask):\n",
    "            # x_train数据\n",
    "            image = cv2.imread(data_img,cv2.IMREAD_COLOR)\n",
    "            # image = cv2.resize(image,(256,256))\n",
    "\n",
    "            # image = list(image)\n",
    "            images.append(image)\n",
    "            # y_train数据\n",
    "            # mask = cv2.imread(data_mask,cv2.IMREAD_GRAYSCALE)\n",
    "            # mask = cv2.resize(mask, (256,256))\n",
    "            # mask = mask / 255.0\n",
    "            # mask = list(mask)\n",
    "            masks.append(batch_data_mask)\n",
    "\n",
    "        return np.array(images), np.array(masks)\n",
    "\n",
    "\n",
    "\n",
    "# 读取样本名称，然后根据样本名称去读取数据 这是对哪些非常整齐的数据的读取方法\n",
    "train_img = sorted(glob.glob('./trainnsmc/image/*.png'))\n",
    "train_mask = sorted(glob.glob('./trainnsmc/label/*.png'))\n",
    "\n",
    "# 数据生成器\n",
    "training_generator = DataGenerator(train_img, train_mask,batch_size=8)\n",
    "\n",
    "from keras_unet_collection import losses\n",
    "model.compile(optimizer=tf.keras.optimizers.Adam(lr), loss=losses.dice,\n",
    "              metrics=[ 'acc',losses.dice_coef])\n",
    "\n",
    "model.fit(training_generator, epochs=50,  max_queue_size=10)\n",
    "\n"
   ]
  },
  {
   "cell_type": "code",
   "execution_count": 3,
   "metadata": {},
   "outputs": [
    {
     "ename": "ModuleNotFoundError",
     "evalue": "No module named 'SimpleITK'",
     "output_type": "error",
     "traceback": [
      "\u001b[1;31m---------------------------------------------------------------------------\u001b[0m",
      "\u001b[1;31mModuleNotFoundError\u001b[0m                       Traceback (most recent call last)",
      "Cell \u001b[1;32mIn[3], line 1\u001b[0m\n\u001b[1;32m----> 1\u001b[0m \u001b[39mimport\u001b[39;00m \u001b[39mSimpleITK\u001b[39;00m \u001b[39mas\u001b[39;00m \u001b[39msitk\u001b[39;00m\n\u001b[0;32m      2\u001b[0m itkimage \u001b[39m=\u001b[39m sitk\u001b[39m.\u001b[39mReadImage(filename)           \u001b[39m# 读取图像信息，一般读取格式为mhd文件与dicom文件\u001b[39;00m\n\u001b[0;32m      3\u001b[0m numpyImage \u001b[39m=\u001b[39m sitk\u001b[39m.\u001b[39mGetArrayFromImage(itkimage) \u001b[39m# 将读取出来的图像信息用像素值表示出来\u001b[39;00m\n",
      "\u001b[1;31mModuleNotFoundError\u001b[0m: No module named 'SimpleITK'"
     ]
    }
   ],
   "source": [
    "import SimpleITK as sitk\n",
    "itkimage = sitk.ReadImage(filename)           # 读取图像信息，一般读取格式为mhd文件与dicom文件\n",
    "numpyImage = sitk.GetArrayFromImage(itkimage) # 将读取出来的图像信息用像素值表示出来\n",
    "numpyOrigin = np.array(list(reversed(itkimage.GetOrigin())))   # 读取图像的原点信息，因为每张图像的不同，它的位置也与原点的距离不同\n",
    "numpySpacing = np.array(list(reversed(itkimage.GetSpacing())))  # 获取图像的尺度信息\n"
   ]
  }
 ],
 "metadata": {
  "kernelspec": {
   "display_name": "Python 3",
   "language": "python",
   "name": "python3"
  },
  "language_info": {
   "codemirror_mode": {
    "name": "ipython",
    "version": 3
   },
   "file_extension": ".py",
   "mimetype": "text/x-python",
   "name": "python",
   "nbconvert_exporter": "python",
   "pygments_lexer": "ipython3",
   "version": "3.10.9"
  },
  "orig_nbformat": 4
 },
 "nbformat": 4,
 "nbformat_minor": 2
}
